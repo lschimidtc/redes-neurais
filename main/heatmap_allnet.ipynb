{
 "cells": [
  {
   "cell_type": "code",
   "execution_count": 1,
   "metadata": {},
   "outputs": [
    {
     "name": "stdout",
     "output_type": "stream",
     "text": [
      "2.6.0\n"
     ]
    }
   ],
   "source": [
    "import tensorflow as tf\n",
    "import numpy as np\n",
    "import matplotlib.pyplot as plt\n",
    "import load_data as ld\n",
    "from tensorflow import keras\n",
    "from sklearn.utils import shuffle\n",
    "from tensorflow.keras import datasets, layers, models\n",
    "print(tf.__version__)"
   ]
  },
  {
   "cell_type": "code",
   "execution_count": 2,
   "metadata": {},
   "outputs": [
    {
     "data": {
      "text/plain": [
       "((39, 24, 72, 6), (39, 17))"
      ]
     },
     "execution_count": 2,
     "metadata": {},
     "output_type": "execute_result"
    }
   ],
   "source": [
    "ip_data = np.load(\"../data/htmp_data/all_net_ip_data.npy\")\n",
    "out_data = np.load(\"../data/htmp_data/all_net_out_data.npy\")\n",
    "ip_data.shape,out_data.shape"
   ]
  },
  {
   "cell_type": "code",
   "execution_count": 3,
   "metadata": {},
   "outputs": [],
   "source": [
    "model = keras.models.load_model(\"../data/model/exp2_pretrain\")"
   ]
  },
  {
   "cell_type": "code",
   "execution_count": 4,
   "metadata": {},
   "outputs": [],
   "source": [
    "pre_data = model.predict(ip_data[[8]])"
   ]
  },
  {
   "cell_type": "code",
   "execution_count": 5,
   "metadata": {},
   "outputs": [
    {
     "data": {
      "text/plain": [
       "array([[-0.36990306, -1.1406609 , -1.048283  , -1.5720191 , -1.6421947 ,\n",
       "        -1.6497418 , -1.6231589 , -1.6164821 , -1.6070056 , -1.4601748 ,\n",
       "        -0.9387852 , -1.3288542 , -0.7200148 , -0.6053281 , -0.18441728,\n",
       "        -0.6529384 , -0.3971004 ]], dtype=float32)"
      ]
     },
     "execution_count": 5,
     "metadata": {},
     "output_type": "execute_result"
    }
   ],
   "source": [
    "pre_data"
   ]
  },
  {
   "cell_type": "code",
   "execution_count": 8,
   "metadata": {},
   "outputs": [
    {
     "data": {
      "text/plain": [
       "array([-0.20080908, -0.75643605, -1.0901551 , -1.2426001 , -1.2137023 ,\n",
       "       -1.4000775 , -1.636279  , -1.8660755 , -1.8482633 , -1.6232814 ,\n",
       "       -1.400351  , -1.1183982 , -0.8985808 , -0.685791  , -0.47397125,\n",
       "       -0.421023  , -0.33048812], dtype=float32)"
      ]
     },
     "execution_count": 8,
     "metadata": {},
     "output_type": "execute_result"
    }
   ],
   "source": [
    "out_data[8,:]"
   ]
  },
  {
   "cell_type": "code",
   "execution_count": 9,
   "metadata": {},
   "outputs": [
    {
     "name": "stdout",
     "output_type": "stream",
     "text": [
      "DatetimeIndex(['1988-04-01', '1988-05-01', '1988-06-01', '1988-07-01',\n",
      "               '1988-08-01', '1988-09-01', '1988-10-01', '1988-11-01',\n",
      "               '1988-12-01', '1989-01-01', '1989-02-01', '1989-03-01',\n",
      "               '1989-04-01', '1989-05-01', '1989-06-01', '1989-07-01',\n",
      "               '1989-08-01'],\n",
      "              dtype='datetime64[ns]', freq='MS')\n"
     ]
    },
    {
     "data": {
      "image/png": "[encoded data removed]",
      "text/plain": [
       "<Figure size 432x288 with 1 Axes>"
      ]
     },
     "metadata": {
      "needs_background": "light"
     },
     "output_type": "display_data"
    }
   ],
   "source": [
    "import pandas as pd\n",
    "plt.rc('font', family='Times New Roman')\n",
    "time0 = pd.date_range(\"1988-04-01\",\"1989-08-15\",freq=\"MS\")\n",
    "print(time0)\n",
    "plt.plot(time0,pre_data[0],\"o-\",color=\"blue\",label=\"Prediction\")\n",
    "plt.plot(time0,out_data[8],\"--\",color=\"red\",label=\"Obs\")\n",
    "plt.legend()\n",
    "plt.savefig(\"../pic/1988_la.png\")"
   ]
  },
  {
   "cell_type": "code",
   "execution_count": 10,
   "metadata": {},
   "outputs": [
    {
     "name": "stdout",
     "output_type": "stream",
     "text": [
      "Model: \"model\"\n",
      "_________________________________________________________________\n",
      "Layer (type)                 Output Shape              Param #   \n",
      "=================================================================\n",
      "conv2d_input (InputLayer)    [(None, 24, 72, 6)]       0         \n",
      "_________________________________________________________________\n",
      "conv2d (Conv2D)              (None, 24, 72, 50)        9650      \n",
      "_________________________________________________________________\n",
      "max_pooling2d (MaxPooling2D) (None, 12, 36, 50)        0         \n",
      "_________________________________________________________________\n",
      "conv2d_1 (Conv2D)            (None, 12, 36, 50)        80050     \n",
      "_________________________________________________________________\n",
      "max_pooling2d_1 (MaxPooling2 (None, 6, 18, 50)         0         \n",
      "_________________________________________________________________\n",
      "conv2d_2 (Conv2D)            (None, 6, 18, 50)         80050     \n",
      "_________________________________________________________________\n",
      "flatten (Flatten)            (None, 5400)              0         \n",
      "_________________________________________________________________\n",
      "dense (Dense)                (None, 50)                270050    \n",
      "_________________________________________________________________\n",
      "dense_1 (Dense)              (None, 17)                867       \n",
      "=================================================================\n",
      "Total params: 440,667\n",
      "Trainable params: 440,667\n",
      "Non-trainable params: 0\n",
      "_________________________________________________________________\n"
     ]
    }
   ],
   "source": [
    "last_conv_layer_name = \"conv2d_2\"\n",
    "grad_model = tf.keras.models.Model(\n",
    "    [model.inputs], [model.get_layer(last_conv_layer_name).output, model.output]\n",
    ")\n",
    "grad_model.summary()"
   ]
  },
  {
   "cell_type": "code",
   "execution_count": 11,
   "metadata": {},
   "outputs": [
    {
     "data": {
      "text/plain": [
       "(TensorShape([1, 6, 18, 50]), TensorShape([1, 17]))"
      ]
     },
     "execution_count": 11,
     "metadata": {},
     "output_type": "execute_result"
    }
   ],
   "source": [
    "with tf.GradientTape() as tape:\n",
    "    last_conv_layer_output, preds = grad_model(ip_data[[8]])\n",
    "    class_channel = preds[:,9]\n",
    "grads = tape.gradient(class_channel, last_conv_layer_output)\n",
    "grads.shape,preds.shape"
   ]
  },
  {
   "cell_type": "code",
   "execution_count": 12,
   "metadata": {},
   "outputs": [
    {
     "data": {
      "text/plain": [
       "TensorShape([50])"
      ]
     },
     "execution_count": 12,
     "metadata": {},
     "output_type": "execute_result"
    }
   ],
   "source": [
    "pooled_grads = tf.reduce_mean(grads, axis=(0, 1, 2))\n",
    "pooled_grads.shape"
   ]
  },
  {
   "cell_type": "code",
   "execution_count": 13,
   "metadata": {},
   "outputs": [
    {
     "data": {
      "text/plain": [
       "TensorShape([6, 18, 50])"
      ]
     },
     "execution_count": 13,
     "metadata": {},
     "output_type": "execute_result"
    }
   ],
   "source": [
    "last_conv_layer_output = last_conv_layer_output[0]\n",
    "last_conv_layer_output.shape"
   ]
  },
  {
   "cell_type": "code",
   "execution_count": 14,
   "metadata": {},
   "outputs": [],
   "source": [
    "heatmap = last_conv_layer_output @ pooled_grads[..., tf.newaxis]"
   ]
  },
  {
   "cell_type": "code",
   "execution_count": 15,
   "metadata": {},
   "outputs": [],
   "source": [
    "heatmap = tf.squeeze(heatmap)"
   ]
  },
  {
   "cell_type": "code",
   "execution_count": 16,
   "metadata": {},
   "outputs": [
    {
     "data": {
      "text/plain": [
       "<matplotlib.colorbar.Colorbar at 0x2946e00fac8>"
      ]
     },
     "execution_count": 16,
     "metadata": {},
     "output_type": "execute_result"
    },
    {
     "data": {
      "image/png": "[encoded data removed]",
      "text/plain": [
       "<Figure size 432x288 with 2 Axes>"
      ]
     },
     "metadata": {
      "needs_background": "light"
     },
     "output_type": "display_data"
    }
   ],
   "source": [
    "plt.pcolor(heatmap,cmap=\"Reds\")\n",
    "plt.colorbar()"
   ]
  },
  {
   "cell_type": "code",
   "execution_count": 17,
   "metadata": {},
   "outputs": [],
   "source": [
    "lon = np.arange(0,356,5,dtype=float)\n",
    "lat = np.arange(-55,61,5,dtype=float)"
   ]
  },
  {
   "cell_type": "code",
   "execution_count": 18,
   "metadata": {},
   "outputs": [],
   "source": [
    "LON,LAT = np.meshgrid(lon,lat)"
   ]
  },
  {
   "cell_type": "code",
   "execution_count": 19,
   "metadata": {},
   "outputs": [],
   "source": [
    "map_fun = keras.layers.AveragePooling2D((2,2))"
   ]
  },
  {
   "cell_type": "code",
   "execution_count": 20,
   "metadata": {},
   "outputs": [],
   "source": [
    "lat1 = map_fun(map_fun(LAT[np.newaxis,:,:,np.newaxis]))[0,:,:,0]\n",
    "lon1 = map_fun(map_fun(LON[np.newaxis,:,:,np.newaxis]))[0,:,:,0]"
   ]
  },
  {
   "cell_type": "code",
   "execution_count": 22,
   "metadata": {},
   "outputs": [
    {
     "data": {
      "text/plain": [
       "<cartopy.mpl.gridliner.Gridliner at 0x29474b13588>"
      ]
     },
     "execution_count": 22,
     "metadata": {},
     "output_type": "execute_result"
    },
    {
     "data": {
      "image/png": "[encoded data removed]",
      "text/plain": [
       "<Figure size 432x288 with 2 Axes>"
      ]
     },
     "metadata": {
      "needs_background": "light"
     },
     "output_type": "display_data"
    }
   ],
   "source": [
    "from tensorflow.python.ops.numpy_ops import np_config\n",
    "import matplotlib.pyplot as plt\n",
    "import cartopy.crs as ccrs\n",
    "import cartopy.feature as cft\n",
    "np_config.enable_numpy_behavior()\n",
    "ax = plt.axes(projection=ccrs.PlateCarree(central_longitude=180))\n",
    "m = ax.contourf(lon1,lat1,heatmap,cmap=\"RdBu_r\",\n",
    "    transform=ccrs.PlateCarree(),levels=np.linspace(-0.01,0.01,13),\n",
    "    extend=\"both\")\n",
    "plt.colorbar(m)\n",
    "ax.set_aspect(\"auto\")\n",
    "ax.coastlines()\n",
    "ax.add_feature(cft.LAND,color=\"gray\",zorder=10)\n",
    "ax.gridlines(draw_labels=True)"
   ]
  },
  {
   "cell_type": "code",
   "execution_count": 23,
   "metadata": {},
   "outputs": [],
   "source": [
    "np.save(\"../data/htmp_data/lon1\",lon1)\n",
    "np.save(\"../data/htmp_data/lat1\",lat1)\n",
    "np.save(\"../data/htmp_data/1988lanina2\",heatmap)"
   ]
  },
  {
   "cell_type": "code",
   "execution_count": 24,
   "metadata": {},
   "outputs": [
    {
     "data": {
      "text/plain": [
       "0.0053822417"
      ]
     },
     "execution_count": 24,
     "metadata": {},
     "output_type": "execute_result"
    }
   ],
   "source": [
    "model.layers[-1].get_weights()[-1][6]"
   ]
  }
 ],
 "metadata": {
  "kernelspec": {
   "display_name": "Python 3.7.4 ('base')",
   "language": "python",
   "name": "python3"
  },
  "language_info": {
   "codemirror_mode": {
    "name": "ipython",
    "version": 3
   },
   "file_extension": ".py",
   "mimetype": "text/x-python",
   "name": "python",
   "nbconvert_exporter": "python",
   "pygments_lexer": "ipython3",
   "version": "3.7.4"
  },
  "orig_nbformat": 4,
  "vscode": {
   "interpreter": {
    "hash": "548d5d72f13655f56c40510a65fe4f545f8876d9a564f15949f15a94806d6179"
   }
  }
 },
 "nbformat": 4,
 "nbformat_minor": 2
}
