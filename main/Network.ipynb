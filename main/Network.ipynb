{
 "cells": [
  {
   "cell_type": "code",
   "execution_count": 1,
   "metadata": {
    "collapsed": true
   },
   "outputs": [
    {
     "name": "stdout",
     "output_type": "stream",
     "text": [
      "2.6.0\n"
     ]
    }
   ],
   "source": [
    "import tensorflow as tf\n",
    "import numpy as np\n",
    "import matplotlib.pyplot as plt\n",
    "import load_data as ld\n",
    "from tensorflow import keras\n",
    "from sklearn.utils import shuffle\n",
    "from tensorflow.keras import datasets, layers, models\n",
    "\n",
    "print(tf.__version__)"
   ]
  },
  {
   "cell_type": "code",
   "execution_count": 2,
   "metadata": {
    "collapsed": false,
    "pycharm": {
     "name": "#%%\n"
    }
   },
   "outputs": [
    {
     "name": "stdout",
     "output_type": "stream",
     "text": [
      "ACCESS-CM2 data_shape: (1978, 24, 72) (1978, 24, 72) (1978,)\n",
      "CanESM2 data_shape: (1870, 24, 72) (1870, 24, 72) (1870,)\n",
      "CCSM4 data_shape: (1870, 24, 72) (1870, 24, 72) (1870,)\n",
      "CESM1-CAM5 data_shape: (1870, 24, 72) (1870, 24, 72) (1870,)\n",
      "CESM2 data_shape: (1978, 24, 72) (1978, 24, 72) (1978,)\n",
      "CMCC-CESM data_shape: (1870, 24, 72) (1870, 24, 72) (1870,)\n",
      "CMCC-CM data_shape: (1870, 24, 72) (1870, 24, 72) (1870,)\n",
      "CMCC-CMS data_shape: (1870, 24, 72) (1870, 24, 72) (1870,)\n",
      "CNRM-CM5 data_shape: (1870, 24, 72) (1870, 24, 72) (1870,)\n",
      "CNRM-CM6-1 data_shape: (1978, 24, 72) (1978, 24, 72) (1978,)\n",
      "CSIRO-Mk3-6-0 data_shape: (1870, 24, 72) (1870, 24, 72) (1870,)\n",
      "FGOALS-f3-L data_shape: (1978, 24, 72) (1978, 24, 72) (1978,)\n",
      "FGOALS-g3 data_shape: (1978, 24, 72) (1978, 24, 72) (1978,)\n",
      "FIO-ESM data_shape: (1870, 24, 72) (1870, 24, 72) (1870,)\n",
      "GFDL-CM4 data_shape: (1978, 24, 72) (1978, 24, 72) (1978,)\n",
      "GFDL-ESM4 data_shape: (1978, 24, 72) (1978, 24, 72) (1978,)\n",
      "MIROC5 data_shape: (1954, 24, 72) (1954, 24, 72) (1954,)\n",
      "MPI-ESM-LR data_shape: (1870, 24, 72) (1870, 24, 72) (1870,)\n",
      "MRI-CGCM3 data_shape: (1870, 24, 72) (1870, 24, 72) (1870,)\n",
      "MRI-ESM2-0 data_shape: (1978, 24, 72) (1978, 24, 72) (1978,)\n",
      "NorESM1-M data_shape: (1870, 24, 72) (1870, 24, 72) (1870,)\n",
      "NorESM1-ME data_shape: (1870, 24, 72) (1870, 24, 72) (1870,)\n",
      "obs data_shape: (1307, 24, 72) (1307, 24, 72) (1307,)\n",
      "================================================================================\n",
      "All Data Shape: (42958, 24, 72, 3) (42958, 24, 72, 3) (42958, 17)\n",
      "================================================================================\n"
     ]
    }
   ],
   "source": [
    "sst_train, ssh_train, nino34_train = ld.load_train(\"../data/train_data\", op_len=17, with_obs=True)\n",
    "# obs_sst_train, obs_ssh_train, obs_nino34_train = ld.load_var(\"../data/train_data/obs\", op_len=17)"
   ]
  },
  {
   "cell_type": "code",
   "execution_count": 3,
   "metadata": {
    "collapsed": false,
    "pycharm": {
     "name": "#%%\n"
    }
   },
   "outputs": [
    {
     "name": "stdout",
     "output_type": "stream",
     "text": [
      "var_data data_shape: (479, 24, 72) (479, 24, 72) (479,)\n"
     ]
    }
   ],
   "source": [
    "sst_var, ssh_var, nino34_var = ld.load_var(\"../data/var_data\", op_len=17)"
   ]
  },
  {
   "cell_type": "code",
   "execution_count": 4,
   "metadata": {
    "collapsed": false,
    "pycharm": {
     "name": "#%%\n"
    }
   },
   "outputs": [
    {
     "name": "stdout",
     "output_type": "stream",
     "text": [
      "0.62603676 0.03388189 0.99235904\n"
     ]
    }
   ],
   "source": [
    "sst_std = sst_train.std()\n",
    "ssh_std = ssh_train.std()\n",
    "nino34_std = nino34_train.std()\n",
    "print(sst_std, ssh_std, nino34_std)\n",
    "sst_train, ssh_train, nino34_train = sst_train / sst_std, ssh_train / ssh_std, nino34_train / nino34_std\n",
    "sst_var, ssh_var, nino34_var = sst_var / sst_std, ssh_var / ssh_std, nino34_var / nino34_std"
   ]
  },
  {
   "cell_type": "code",
   "execution_count": 5,
   "metadata": {
    "collapsed": false,
    "pycharm": {
     "name": "#%%\n"
    }
   },
   "outputs": [
    {
     "data": {
      "text/plain": [
       "((42958, 24, 72, 6), (460, 24, 72, 6))"
      ]
     },
     "execution_count": 5,
     "metadata": {},
     "output_type": "execute_result"
    }
   ],
   "source": [
    "ip_var = np.concatenate([sst_var, ssh_var], axis=3)\n",
    "ip_train = np.concatenate([sst_train, ssh_train], axis=3)\n",
    "ip_train.shape, ip_var.shape"
   ]
  },
  {
   "cell_type": "code",
   "execution_count": 6,
   "metadata": {
    "collapsed": false,
    "pycharm": {
     "name": "#%%\n"
    }
   },
   "outputs": [
    {
     "data": {
      "text/plain": [
       "False"
      ]
     },
     "execution_count": 6,
     "metadata": {},
     "output_type": "execute_result"
    }
   ],
   "source": [
    "True in np.isnan(ip_train)"
   ]
  },
  {
   "cell_type": "code",
   "execution_count": 7,
   "metadata": {
    "collapsed": false,
    "pycharm": {
     "name": "#%%\n"
    }
   },
   "outputs": [
    {
     "data": {
      "text/plain": [
       "(42958, 17)"
      ]
     },
     "execution_count": 7,
     "metadata": {},
     "output_type": "execute_result"
    }
   ],
   "source": [
    "nino34_train.shape"
   ]
  },
  {
   "cell_type": "code",
   "execution_count": 8,
   "metadata": {
    "collapsed": false,
    "pycharm": {
     "name": "#%%\n"
    }
   },
   "outputs": [],
   "source": [
    "ip_train, nino34_train = shuffle(ip_train, nino34_train)"
   ]
  },
  {
   "cell_type": "code",
   "execution_count": 9,
   "metadata": {
    "collapsed": false,
    "pycharm": {
     "name": "#%%\n"
    }
   },
   "outputs": [
    {
     "name": "stdout",
     "output_type": "stream",
     "text": [
      "Model: \"ENSO\"\n",
      "_________________________________________________________________\n",
      "Layer (type)                 Output Shape              Param #   \n",
      "=================================================================\n",
      "conv2d (Conv2D)              (None, 24, 72, 50)        9650      \n",
      "_________________________________________________________________\n",
      "max_pooling2d (MaxPooling2D) (None, 12, 36, 50)        0         \n",
      "_________________________________________________________________\n",
      "conv2d_1 (Conv2D)            (None, 12, 36, 50)        80050     \n",
      "_________________________________________________________________\n",
      "max_pooling2d_1 (MaxPooling2 (None, 6, 18, 50)         0         \n",
      "_________________________________________________________________\n",
      "conv2d_2 (Conv2D)            (None, 6, 18, 50)         80050     \n",
      "_________________________________________________________________\n",
      "flatten (Flatten)            (None, 5400)              0         \n",
      "_________________________________________________________________\n",
      "dense (Dense)                (None, 50)                270050    \n",
      "_________________________________________________________________\n",
      "dense_1 (Dense)              (None, 17)                867       \n",
      "=================================================================\n",
      "Total params: 440,667\n",
      "Trainable params: 440,667\n",
      "Non-trainable params: 0\n",
      "_________________________________________________________________\n"
     ]
    }
   ],
   "source": [
    "model = models.Sequential(name=\"ENSO\")\n",
    "model.add(layers.Conv2D(50, (4, 8), activation=\"tanh\", padding=\"same\", input_shape=ip_train.shape[1:]))\n",
    "model.add(layers.MaxPool2D((2, 2)))\n",
    "model.add(layers.Conv2D(50, (4, 8), activation=\"tanh\", padding=\"same\"))\n",
    "model.add(layers.MaxPool2D((2, 2)))\n",
    "model.add(layers.Conv2D(50, (4, 8), activation=\"tanh\", padding=\"same\"))\n",
    "model.add(layers.Flatten())\n",
    "model.add(layers.Dense(50, activation=\"tanh\"))\n",
    "model.add(layers.Dense(17))\n",
    "model.summary()"
   ]
  },
  {
   "cell_type": "code",
   "execution_count": 10,
   "metadata": {
    "collapsed": false,
    "pycharm": {
     "name": "#%%\n"
    }
   },
   "outputs": [
    {
     "name": "stdout",
     "output_type": "stream",
     "text": [
      "Epoch 1/20\n",
      "108/108 [==============================] - 14s 79ms/step - loss: 0.6810 - val_loss: 0.4760\n",
      "Epoch 2/20\n",
      "108/108 [==============================] - 8s 72ms/step - loss: 0.5203 - val_loss: 0.4488\n",
      "Epoch 3/20\n",
      "108/108 [==============================] - 8s 73ms/step - loss: 0.4865 - val_loss: 0.4275\n",
      "Epoch 4/20\n",
      "108/108 [==============================] - 8s 73ms/step - loss: 0.4683 - val_loss: 0.4183\n",
      "Epoch 5/20\n",
      "108/108 [==============================] - 8s 73ms/step - loss: 0.4553 - val_loss: 0.4085\n",
      "Epoch 6/20\n",
      "108/108 [==============================] - 8s 73ms/step - loss: 0.4448 - val_loss: 0.4036\n",
      "Epoch 7/20\n",
      "108/108 [==============================] - 8s 73ms/step - loss: 0.4357 - val_loss: 0.4126\n",
      "Epoch 8/20\n",
      "108/108 [==============================] - 8s 73ms/step - loss: 0.4276 - val_loss: 0.4017\n",
      "Epoch 9/20\n",
      "108/108 [==============================] - 8s 74ms/step - loss: 0.4202 - val_loss: 0.4249\n",
      "Epoch 10/20\n",
      "108/108 [==============================] - 8s 73ms/step - loss: 0.4134 - val_loss: 0.4537\n",
      "Epoch 11/20\n",
      "108/108 [==============================] - 8s 74ms/step - loss: 0.4074 - val_loss: 0.4260\n",
      "Epoch 12/20\n",
      "108/108 [==============================] - 8s 74ms/step - loss: 0.4010 - val_loss: 0.4063\n",
      "Epoch 13/20\n",
      "108/108 [==============================] - 8s 74ms/step - loss: 0.3956 - val_loss: 0.4213\n",
      "Epoch 14/20\n",
      "108/108 [==============================] - 8s 74ms/step - loss: 0.3894 - val_loss: 0.3811\n",
      "Epoch 15/20\n",
      "108/108 [==============================] - 8s 74ms/step - loss: 0.3845 - val_loss: 0.4107\n",
      "Epoch 16/20\n",
      "108/108 [==============================] - 8s 74ms/step - loss: 0.3792 - val_loss: 0.4127\n",
      "Epoch 17/20\n",
      "108/108 [==============================] - 8s 74ms/step - loss: 0.3746 - val_loss: 0.4451\n",
      "Epoch 18/20\n",
      "108/108 [==============================] - 8s 74ms/step - loss: 0.3692 - val_loss: 0.4198\n",
      "Epoch 19/20\n",
      "108/108 [==============================] - 8s 75ms/step - loss: 0.3654 - val_loss: 0.3849\n",
      "Epoch 20/20\n",
      "108/108 [==============================] - 8s 74ms/step - loss: 0.3588 - val_loss: 0.4337\n",
      "INFO:tensorflow:Assets written to: ../data/model/exp2_pretrain\\assets\n"
     ]
    }
   ],
   "source": [
    "model.compile(optimizer=keras.optimizers.SGD(), loss=\"mse\")\n",
    "hist = model.fit(ip_train, nino34_train, validation_data=(ip_var, nino34_var), epochs=20, batch_size=400)\n",
    "model.save(\"../data/model/exp2_pretrain\")"
   ]
  },
  {
   "cell_type": "code",
   "execution_count": 20,
   "metadata": {
    "collapsed": false,
    "pycharm": {
     "name": "#%%\n"
    }
   },
   "outputs": [
    {
     "data": {
      "image/png": "[encoded data removed]",
      "text/plain": [
       "<Figure size 432x288 with 1 Axes>"
      ]
     },
     "metadata": {
      "needs_background": "light"
     },
     "output_type": "display_data"
    }
   ],
   "source": [
    "def visualize_loss(history, title):\n",
    "    loss = history.history[\"loss\"]\n",
    "    val_loss = history.history[\"val_loss\"]\n",
    "    epochs = range(len(loss))\n",
    "    plt.figure()\n",
    "    plt.plot(epochs, loss, \"b\", label=\"Training loss\")\n",
    "    plt.plot(epochs, val_loss, \"r\", label=\"Validation loss\")\n",
    "    plt.title(title)\n",
    "    plt.xlabel(\"Epochs\")\n",
    "    plt.ylabel(\"Loss\")\n",
    "    plt.legend()\n",
    "    plt.savefig('../pic/train_prog_all_net.png', dpi=300)\n",
    "    plt.show()\n",
    "\n",
    "\n",
    "visualize_loss(hist, \"Training and Validation Loss\")"
   ]
  },
  {
   "cell_type": "code",
   "execution_count": 72,
   "metadata": {
    "collapsed": false,
    "pycharm": {
     "name": "#%%\n"
    }
   },
   "outputs": [
    {
     "data": {
      "image/png": "[encoded data removed]",
      "text/plain": [
       "<Figure size 432x288 with 1 Axes>"
      ]
     },
     "metadata": {
      "needs_background": "light"
     },
     "output_type": "display_data"
    }
   ],
   "source": [
    "def visualize_loss(history, title):\n",
    "    loss = history.history[\"loss\"]\n",
    "    val_loss = history.history[\"val_loss\"]\n",
    "    epochs = range(len(loss))\n",
    "    plt.figure()\n",
    "    plt.plot(epochs, loss, \"b\", label=\"Training loss\")\n",
    "    plt.plot(epochs, val_loss, \"r\", label=\"Validation loss\")\n",
    "    plt.title(title)\n",
    "    plt.xlabel(\"Epochs\")\n",
    "    plt.ylabel(\"Loss\")\n",
    "    plt.legend()\n",
    "    plt.show()\n",
    "\n",
    "\n",
    "visualize_loss(hist1, \"Training and Validation Loss\")"
   ]
  },
  {
   "cell_type": "code",
   "execution_count": 12,
   "metadata": {
    "collapsed": false,
    "pycharm": {
     "name": "#%%\n"
    }
   },
   "outputs": [
    {
     "data": {
      "text/plain": [
       "((460, 17), (460, 17))"
      ]
     },
     "execution_count": 12,
     "metadata": {},
     "output_type": "execute_result"
    }
   ],
   "source": [
    "pre_nino = model.predict(ip_var)\n",
    "pre_nino.shape, nino34_var.shape"
   ]
  },
  {
   "cell_type": "code",
   "execution_count": 18,
   "metadata": {
    "collapsed": false,
    "pycharm": {
     "name": "#%%\n"
    }
   },
   "outputs": [
    {
     "data": {
      "image/png": "[encoded data removed]",
      "text/plain": [
       "<Figure size 432x288 with 1 Axes>"
      ]
     },
     "metadata": {
      "needs_background": "light"
     },
     "output_type": "display_data"
    }
   ],
   "source": [
    "import scipy.stats as sts\n",
    "\n",
    "corr_ls = []\n",
    "for i in range(17):\n",
    "    corr, _ = sts.pearsonr(pre_nino[:,i], nino34_var[:,i])\n",
    "# corr\n",
    "    corr_ls.append(corr)\n",
    "plt.plot(np.arange(1, 18), corr_ls, \"o-\", color=\"blue\")\n",
    "plt.xlabel(\"lead time (month)\")\n",
    "plt.ylabel(\"correlation skill\")\n",
    "plt.axhline(0.5, color=\"k\", linestyle=\":\")\n",
    "plt.savefig(\"../pic/all_net_corr_skill.png\")"
   ]
  },
  {
   "cell_type": "code",
   "execution_count": 15,
   "metadata": {
    "collapsed": false,
    "pycharm": {
     "name": "#%%\n"
    }
   },
   "outputs": [
    {
     "data": {
      "text/plain": [
       "[<matplotlib.lines.Line2D at 0x1f877bd0108>]"
      ]
     },
     "execution_count": 15,
     "metadata": {},
     "output_type": "execute_result"
    },
    {
     "data": {
      "image/png": "[encoded data removed]",
      "text/plain": [
       "<Figure size 432x288 with 1 Axes>"
      ]
     },
     "metadata": {
      "needs_background": "light"
     },
     "output_type": "display_data"
    }
   ],
   "source": [
    "plt.plot(nino34_var[::12,9])\n",
    "plt.plot(pre_nino[::12,9])"
   ]
  },
  {
   "cell_type": "code",
   "execution_count": null,
   "metadata": {},
   "outputs": [],
   "source": [
    "np.save(\"../data/htmp_data/all_net_ip_data\",ip_var[::12])\n",
    "np.save(\"../data/htmp_data/all_net_out_data\",nino34_var[::12])"
   ]
  },
  {
   "cell_type": "code",
   "execution_count": 16,
   "metadata": {},
   "outputs": [
    {
     "data": {
      "text/plain": [
       "(460, 24, 72, 6)"
      ]
     },
     "execution_count": 16,
     "metadata": {},
     "output_type": "execute_result"
    }
   ],
   "source": [
    "ip_var.shape"
   ]
  }
 ],
 "metadata": {
  "kernelspec": {
   "display_name": "Python 3.7.4 ('base')",
   "language": "python",
   "name": "python3"
  },
  "language_info": {
   "codemirror_mode": {
    "name": "ipython",
    "version": 3
   },
   "file_extension": ".py",
   "mimetype": "text/x-python",
   "name": "python",
   "nbconvert_exporter": "python",
   "pygments_lexer": "ipython3",
   "version": "3.7.4"
  },
  "vscode": {
   "interpreter": {
    "hash": "548d5d72f13655f56c40510a65fe4f545f8876d9a564f15949f15a94806d6179"
   }
  }
 },
 "nbformat": 4,
 "nbformat_minor": 0
}
